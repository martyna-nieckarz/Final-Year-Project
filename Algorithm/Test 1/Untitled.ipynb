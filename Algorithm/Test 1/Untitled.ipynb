{
 "cells": [
  {
   "cell_type": "code",
   "execution_count": 3,
   "id": "starting-hungary",
   "metadata": {},
   "outputs": [
    {
     "name": "stdout",
     "output_type": "stream",
     "text": [
      "Available kernels:\n",
      "  python3    C:\\Users\\marty\\anaconda3\\envs\\newEnv1\\share\\jupyter\\kernels\\python3\n"
     ]
    }
   ],
   "source": [
    "# !pip list\n",
    "!jupyter kernelspec list"
   ]
  },
  {
   "cell_type": "code",
   "execution_count": 6,
   "id": "weird-warrant",
   "metadata": {},
   "outputs": [],
   "source": [
    "import os\n",
    "import torch\n",
    "import albumentations\n",
    "\n",
    "import numpy as np\n",
    "import pandas as pd\n",
    "\n",
    "import torch.nn as nn\n",
    "from sklearn import metrics\n",
    "from sklearn import model_selection\n",
    "from torch.nn import functional as F\n",
    "\n",
    "from wtfml.utils import EarlyStopping\n",
    "from wtfml.engine import Engine\n",
    "from wtfml.data_loaders.image.loader import ClassificationLoader\n",
    "\n",
    "import pretrainedmodels"
   ]
  },
  {
   "cell_type": "code",
   "execution_count": 7,
   "id": "governmental-muscle",
   "metadata": {},
   "outputs": [],
   "source": [
    "class SEResnext50_32x4d(nn.Module):\n",
    "    def __init__(self, pretrained='imagenet'):\n",
    "        super(SEResnext50_32x4d, self).__init__()\n",
    "        \n",
    "        self.base_model = pretrainedmodels.__dict__[\n",
    "            \"se_resnext50_32x4d\"\n",
    "        ](pretrained=None)\n",
    "        if pretrained is not None:\n",
    "            self.base_model.load_state_dict(\n",
    "                torch.load(\n",
    "                    \"../input/pretrained-model-weights-pytorch/se_resnext50_32x4d-a260b3a4.pth\"\n",
    "                )\n",
    "            )\n",
    "\n",
    "        self.l0 = nn.Linear(2048, 1)\n",
    "    \n",
    "    def forward(self, image, targets):\n",
    "        batch_size, _, _, _ = image.shape\n",
    "        \n",
    "        x = self.base_model.features(image)\n",
    "        x = F.adaptive_avg_pool2d(x, 1).reshape(batch_size, -1)\n",
    "        \n",
    "        out = self.l0(x)\n",
    "        loss = nn.BCEWithLogitsLoss()(out, targets.view(-1, 1).type_as(x))\n",
    "\n",
    "        return out, loss"
   ]
  },
  {
   "cell_type": "code",
   "execution_count": null,
   "id": "executed-hayes",
   "metadata": {},
   "outputs": [],
   "source": []
  }
 ],
 "metadata": {
  "kernelspec": {
   "display_name": "Python 3",
   "language": "python",
   "name": "python3"
  },
  "language_info": {
   "codemirror_mode": {
    "name": "ipython",
    "version": 3
   },
   "file_extension": ".py",
   "mimetype": "text/x-python",
   "name": "python",
   "nbconvert_exporter": "python",
   "pygments_lexer": "ipython3",
   "version": "3.6.12"
  }
 },
 "nbformat": 4,
 "nbformat_minor": 5
}
