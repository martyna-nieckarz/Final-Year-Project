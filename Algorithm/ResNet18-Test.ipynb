{
 "cells": [
  {
   "cell_type": "code",
   "execution_count": 1,
   "id": "polyphonic-korean",
   "metadata": {},
   "outputs": [],
   "source": [
    "import torch\n",
    "from torch import nn\n",
    "import torch.nn.functional as F\n",
    "import torchvision\n",
    "import torchvision.transforms as transforms\n",
    "import numpy as np\n",
    "# import os\n",
    "\n",
    "# import numpy as np\n",
    "# import pandas as pd\n",
    "# from sklearn.model_selection import train_test_split\n",
    "# from sklearn.metrics import confusion_matrix, precision_recall_fscore_support\n",
    "# import scipy.ndimage\n",
    "# from scipy import misc\n",
    "# from glob import glob\n",
    "# from scipy import stats\n",
    "# from sklearn.preprocessing import LabelEncoder, StandardScaler\n",
    "# import skimage\n",
    "# import imageio\n",
    "# import seaborn as sns\n",
    "# from PIL import Image\n",
    "# import glob\n",
    "# import matplotlib.pyplot as plt\n",
    "# import matplotlib\n",
    "# %matplotlib inline"
   ]
  },
  {
   "cell_type": "code",
   "execution_count": 2,
   "id": "endless-clothing",
   "metadata": {},
   "outputs": [
    {
     "data": {
      "text/plain": [
       "device(type='cpu')"
      ]
     },
     "execution_count": 2,
     "metadata": {},
     "output_type": "execute_result"
    }
   ],
   "source": [
    "device = torch.device('cuda' if torch.cuda.is_available() else 'cpu')\n",
    "device"
   ]
  },
  {
   "cell_type": "code",
   "execution_count": 3,
   "id": "relevant-exhibition",
   "metadata": {},
   "outputs": [],
   "source": [
    "classes = [ 'actinic keratoses', 'basal cell carcinoma', 'benign keratosis-like lesions', \n",
    "           'dermatofibroma','melanoma', 'melanocytic nevi', 'vascular lesions']\n",
    "\n",
    "num_classes = len(classes)\n",
    "class LeNet(nn.Module):\n",
    "    def __init__(self):\n",
    "        super(LeNet, self).__init__()\n",
    "        self.conv1 = nn.Conv2d(3, 6, (5,5), padding=2)\n",
    "        self.conv2 = nn.Conv2d(6, 16, (5,5))\n",
    "        self.fc1   = nn.Linear(16*54*54, 120)\n",
    "        self.fc2   = nn.Linear(120, 84)\n",
    "        self.fc3   = nn.Linear(84, num_classes)\n",
    "    def forward(self, x):\n",
    "        x = F.max_pool2d(F.relu(self.conv1(x)), (2,2))\n",
    "        x = F.max_pool2d(F.relu(self.conv2(x)), (2,2))\n",
    "        x = x.view(-1, self.num_flat_features(x))\n",
    "        x = F.relu(self.fc1(x))\n",
    "        x = F.relu(self.fc2(x))\n",
    "        x = self.fc3(x)\n",
    "        return x\n",
    "    def num_flat_features(self, x):\n",
    "        size = x.size()[1:]\n",
    "        num_features = 1\n",
    "        for s in size:\n",
    "            num_features *= s\n",
    "        return num_features\n",
    "\n",
    "net = LeNet()\n",
    "net = net.to(device)"
   ]
  },
  {
   "cell_type": "code",
   "execution_count": 4,
   "id": "architectural-assignment",
   "metadata": {},
   "outputs": [
    {
     "data": {
      "text/plain": [
       "LeNet(\n",
       "  (conv1): Conv2d(3, 6, kernel_size=(5, 5), stride=(1, 1), padding=(2, 2))\n",
       "  (conv2): Conv2d(6, 16, kernel_size=(5, 5), stride=(1, 1))\n",
       "  (fc1): Linear(in_features=46656, out_features=120, bias=True)\n",
       "  (fc2): Linear(in_features=120, out_features=84, bias=True)\n",
       "  (fc3): Linear(in_features=84, out_features=7, bias=True)\n",
       ")"
      ]
     },
     "execution_count": 4,
     "metadata": {},
     "output_type": "execute_result"
    }
   ],
   "source": [
    "loadedModel = torch.load(\"./modelSaveFull.pth\")\n",
    "loadedModel.eval()"
   ]
  },
  {
   "cell_type": "code",
   "execution_count": 5,
   "id": "proved-wallace",
   "metadata": {},
   "outputs": [],
   "source": [
    "data_dir = \"./data/HAM10K\"\n",
    "\n",
    "SubsetRandomSampler = torch.utils.data.sampler.SubsetRandomSampler\n",
    "transform_test = transforms.Compose([\n",
    "    transforms.Resize((224,224)),\n",
    "    transforms.ToTensor(),\n",
    "    transforms.Normalize((0.4914, 0.4822, 0.4465), (0.2023, 0.1994, 0.2010)),\n",
    "    ])\n",
    "\n",
    "test_batch_size = 10\n",
    "\n",
    "import torch as th\n",
    "import math\n",
    "\n",
    "test_size = 0.2\n",
    "val_size = 0.2\n",
    "class Sampler(object):\n",
    "    \"\"\"Base class for all Samplers.\n",
    "    \"\"\"\n",
    "\n",
    "    def __init__(self, data_source):\n",
    "        pass\n",
    "\n",
    "    def __iter__(self):\n",
    "        raise NotImplementedError\n",
    "\n",
    "    def __len__(self):\n",
    "        raise NotImplementedError\n",
    "        \n",
    "class StratifiedSampler(Sampler):\n",
    "    \"\"\"Stratified Sampling\n",
    "    Provides equal representation of target classes\n",
    "    \"\"\"\n",
    "    def __init__(self, class_vector, test_size):\n",
    "        \"\"\"\n",
    "        Arguments\n",
    "        ---------\n",
    "        class_vector : torch tensor\n",
    "            a vector of class labels\n",
    "        batch_size : integer\n",
    "            batch_size\n",
    "        \"\"\"\n",
    "        self.n_splits = 1\n",
    "        self.class_vector = class_vector\n",
    "        self.test_size = test_size\n",
    "\n",
    "    def gen_sample_array(self):\n",
    "        try:\n",
    "            from sklearn.model_selection import StratifiedShuffleSplit\n",
    "        except:\n",
    "            print('Need scikit-learn for this functionality')\n",
    "        import numpy as np\n",
    "        \n",
    "        s = StratifiedShuffleSplit(n_splits=self.n_splits, test_size=self.test_size)\n",
    "        X = th.randn(self.class_vector.size(0),2).numpy()\n",
    "        y = self.class_vector.numpy()\n",
    "        s.get_n_splits(X, y)\n",
    "\n",
    "        train_index, test_index= next(s.split(X, y))\n",
    "        return train_index, test_index\n",
    "\n",
    "    def __iter__(self):\n",
    "        return iter(self.gen_sample_array())\n",
    "\n",
    "    def __len__(self):\n",
    "        return len(self.class_vector)\n",
    "    \n",
    "\n",
    "dataset = torchvision.datasets.ImageFolder(root= data_dir)\n",
    "data_label = [s[1] for s in dataset.samples]\n",
    "\n",
    "ss = StratifiedSampler(torch.FloatTensor(data_label), test_size)\n",
    "pre_train_indices, test_indices = ss.gen_sample_array()\n",
    "\n",
    "test_samples = SubsetRandomSampler(test_indices)"
   ]
  },
  {
   "cell_type": "code",
   "execution_count": 6,
   "id": "stuffed-march",
   "metadata": {},
   "outputs": [],
   "source": [
    "dataset = torchvision.datasets.ImageFolder(root= data_dir, transform=transform_test)\n",
    "test_data_loader = torch.utils.data.DataLoader(dataset, batch_size=test_batch_size, shuffle=False, sampler=test_samples)"
   ]
  },
  {
   "cell_type": "code",
   "execution_count": 15,
   "id": "detailed-booth",
   "metadata": {},
   "outputs": [
    {
     "name": "stdout",
     "output_type": "stream",
     "text": [
      "Accuracy of the network on the test images: 50 %\n"
     ]
    }
   ],
   "source": [
    "correct = 0\n",
    "total = 0\n",
    "loadedModel.eval()\n",
    "with torch.no_grad():\n",
    "    for data in test_data_loader:\n",
    "        images, labels = data\n",
    "        images, labels = images.to(device), labels.to(device)\n",
    "        outputs = loadedModel(images)\n",
    "        _, predicted = torch.max(outputs.data, 1)\n",
    "        total += labels.size(0)\n",
    "        correct += (predicted == labels).sum().item()\n",
    "\n",
    "print('Accuracy of the network on the test images: %d %%' % (\n",
    "    100 * correct / total))"
   ]
  },
  {
   "cell_type": "code",
   "execution_count": 7,
   "id": "helpful-basket",
   "metadata": {},
   "outputs": [
    {
     "name": "stdout",
     "output_type": "stream",
     "text": [
      "Accuracy of actinic keratoses :  0 %\n",
      "Accuracy of basal cell carcinoma : 99 %\n",
      "Accuracy of benign keratosis-like lesions :  0 %\n",
      "Accuracy of dermatofibroma :  0 %\n",
      "Accuracy of melanoma :  0 %\n",
      "Accuracy of melanocytic nevi :  0 %\n",
      "Accuracy of vascular lesions :  0 %\n"
     ]
    }
   ],
   "source": [
    "class_correct = list(0. for i in range(len(classes)))\n",
    "class_total = list(1e-7 for i in range(len(classes)))\n",
    "with torch.no_grad():\n",
    "    for data in test_data_loader:\n",
    "        images, labels = data\n",
    "        images, labels = images.to(device), labels.to(device)\n",
    "        outputs = net(images)\n",
    "        _, predicted = torch.max(outputs, 1)\n",
    "        c = (predicted == labels).squeeze()\n",
    "        for i in range(3):\n",
    "            label = labels[i]\n",
    "            class_correct[label] += c[i].item()\n",
    "            class_total[label] += 1\n",
    "\n",
    "for i in range(len(classes)):\n",
    "    print('Accuracy of %5s : %2d %%' % (\n",
    "        classes[i], 100 * class_correct[i] / class_total[i]))"
   ]
  },
  {
   "cell_type": "code",
   "execution_count": null,
   "id": "environmental-speaking",
   "metadata": {},
   "outputs": [],
   "source": []
  }
 ],
 "metadata": {
  "kernelspec": {
   "display_name": "Python 3",
   "language": "python",
   "name": "python3"
  },
  "language_info": {
   "codemirror_mode": {
    "name": "ipython",
    "version": 3
   },
   "file_extension": ".py",
   "mimetype": "text/x-python",
   "name": "python",
   "nbconvert_exporter": "python",
   "pygments_lexer": "ipython3",
   "version": "3.8.3"
  }
 },
 "nbformat": 4,
 "nbformat_minor": 5
}
